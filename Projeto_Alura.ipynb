{
  "nbformat": 4,
  "nbformat_minor": 0,
  "metadata": {
    "colab": {
      "provenance": [],
      "authorship_tag": "ABX9TyPXR2aJfZDcnhgO6ajQj6WB",
      "include_colab_link": true
    },
    "kernelspec": {
      "name": "python3",
      "display_name": "Python 3"
    },
    "language_info": {
      "name": "python"
    }
  },
  "cells": [
    {
      "cell_type": "markdown",
      "metadata": {
        "id": "view-in-github",
        "colab_type": "text"
      },
      "source": [
        "<a href=\"https://colab.research.google.com/github/pedrocf25/imersaoAlura/blob/main/Projeto_Alura.ipynb\" target=\"_parent\"><img src=\"https://colab.research.google.com/assets/colab-badge.svg\" alt=\"Open In Colab\"/></a>"
      ]
    },
    {
      "cell_type": "code",
      "source": [
        "!pip install -q PyPDF2"
      ],
      "metadata": {
        "colab": {
          "base_uri": "https://localhost:8080/"
        },
        "id": "dRMSEJmU1jzk",
        "outputId": "7b5d37e6-5c4e-4caa-f450-8a442808b1fb"
      },
      "execution_count": 1,
      "outputs": [
        {
          "output_type": "stream",
          "name": "stdout",
          "text": [
            "\u001b[?25l     \u001b[90m━━━━━━━━━━━━━━━━━━━━━━━━━━━━━━━━━━━━━━━━\u001b[0m \u001b[32m0.0/232.6 kB\u001b[0m \u001b[31m?\u001b[0m eta \u001b[36m-:--:--\u001b[0m\r\u001b[2K     \u001b[91m━━━━━━━━━━━━━━━\u001b[0m\u001b[91m╸\u001b[0m\u001b[90m━━━━━━━━━━━━━━━━━━━━━━━━\u001b[0m \u001b[32m92.2/232.6 kB\u001b[0m \u001b[31m2.5 MB/s\u001b[0m eta \u001b[36m0:00:01\u001b[0m\r\u001b[2K     \u001b[90m━━━━━━━━━━━━━━━━━━━━━━━━━━━━━━━━━━━━━━━━\u001b[0m \u001b[32m232.6/232.6 kB\u001b[0m \u001b[31m3.4 MB/s\u001b[0m eta \u001b[36m0:00:00\u001b[0m\n",
            "\u001b[?25h"
          ]
        }
      ]
    },
    {
      "cell_type": "code",
      "execution_count": 7,
      "metadata": {
        "id": "hCaFWefpAmsg"
      },
      "outputs": [],
      "source": [
        "\n",
        "import textwrap\n",
        "from IPython.display import display\n",
        "from IPython.display import Markdown\n",
        "\n",
        "from PyPDF2 import PdfReader as pdf\n",
        "import google.generativeai as genai\n",
        "from google.colab import userdata\n",
        "GOOGLE_API_KEY=userdata.get('SECRET_KEY')\n",
        "genai.configure(api_key=GOOGLE_API_KEY)\n",
        "\n",
        "\n",
        "\n",
        "\n",
        "# Set up the model\n",
        "generation_config = {\n",
        "  \"temperature\": 0.5,\n",
        "  \"max_tokens\": 10000,\n",
        "}\n",
        "\n",
        "\n",
        "model = genai.GenerativeModel(model_name=\"gemini-1.5-pro-latest\",\n",
        "                              generation_config=generation_config\n",
        "                              )\n",
        "\n",
        "\n",
        "def to_markdown(text):\n",
        "  text = text.replace('•', '  *')\n",
        "  return Markdown(textwrap.indent(text, '> ', predicate=lambda _: True))\n",
        "\n"
      ]
    },
    {
      "cell_type": "code",
      "source": [
        "\n",
        "def extrair_texto(arquivo):\n",
        "  doc = pdf(arquivo)\n",
        "  doc_sped = \"\"\n",
        "  for pagina in range(len(doc.pages)):\n",
        "    doc_sped += doc.pages[pagina].extract_text()\n",
        "  return doc_sped"
      ],
      "metadata": {
        "id": "glF6o5CtDmeM"
      },
      "execution_count": 3,
      "outputs": []
    },
    {
      "cell_type": "code",
      "source": [
        "conteudo = extrair_texto(\"GuiaSped.pdf\")\n",
        "\n",
        "chat = model.start_chat(history=[\n",
        "  {\n",
        "    \"role\": \"user\",\n",
        "    \"parts\": conteudo\n",
        "  }\n",
        "])\n"
      ],
      "metadata": {
        "id": "vEwh3eVsAqqA"
      },
      "execution_count": 5,
      "outputs": []
    },
    {
      "cell_type": "code",
      "source": [
        "display(to_markdown(text='<h1 align =\"center\">Bem vindo! Sou seu assistente do Guia Prático do sped\\n</h1>'\n",
        "'<h4 align =\"center\" >Digite sua pergunta ou digite <em>sair</em> para encerrar a conversa'))\n",
        "\n",
        "print()\n",
        "\n",
        "prompt = input(\"Faça sua pergunta : \")\n",
        "while prompt != 'sair':\n",
        "  chat.send_message(prompt)\n",
        "  display(to_markdown(f'**Resposta**: {chat.last.text}'))\n",
        "  print('-------------------------------------------')\n",
        "  prompt = input(\"Proxima Pergunta: \")\n",
        "\n",
        "\n"
      ],
      "metadata": {
        "colab": {
          "base_uri": "https://localhost:8080/",
          "height": 1000
        },
        "id": "FYmO9MNpAtAo",
        "outputId": "bccb25f5-90eb-4af1-ffdf-7a1229ec8a1b"
      },
      "execution_count": 8,
      "outputs": [
        {
          "output_type": "display_data",
          "data": {
            "text/plain": [
              "<IPython.core.display.Markdown object>"
            ],
            "text/markdown": "> <h1 align =\"center\">Bem vindo! Sou seu assistente do Guia Prático do sped\n> </h1><h4 align =\"center\" >Digite sua pergunta ou digite <em>sair</em> para encerrar a conversa"
          },
          "metadata": {}
        },
        {
          "name": "stdout",
          "output_type": "stream",
          "text": [
            "\n",
            "Faça sua pergunta : Dê dois exemplos de como preencher o leiaute do registro H010 no arquivo e explique qual é sua função\n"
          ]
        },
        {
          "output_type": "display_data",
          "data": {
            "text/plain": [
              "<IPython.core.display.Markdown object>"
            ],
            "text/markdown": "> **Resposta**: ## Exemplos de preenchimento do registro H010 da EFD ICMS/IPI:\n> \n> Para que os exemplos funcionem no PVA, primeiro **certifique-se de cadastrar os códigos de itens no Registro 0200**. \n> Utilize as informações abaixo para o cadastro:\n> \n> **Item 00001:**\n> * Descrição: Arroz Tipo 1\n> * Unidade de medida: KG\n> * Código NCM: 1006.30.10\n> * Tipo do Item: 00 - Mercadoria para Revenda\n> * Alíquota ICMS: 17,00\n> \n> **Item 00002:**\n> * Descrição: Feijão Preto\n> * Unidade de medida: KG\n> * Código NCM: 0713.33.90\n> * Tipo do Item: 00 - Mercadoria para Revenda\n> * Alíquota ICMS: 7,00\n> \n> \n> **Exemplo 1: Item próprio em posse da empresa**\n> \n> ```\n> |H010|00001|KG|100,000|5,50|550,00|0||||1101|540,00|\n> ```\n> \n> **Explicação:**\n> \n> * **REG:** Identificador do registro: H010.\n> * **COD_ITEM:** Código do item \"00001\" (Arroz Tipo 1) conforme cadastro no Registro 0200.\n> * **UNID:** Unidade de medida \"KG\" (quilograma).\n> * **QTD:** Quantidade do item em estoque: 100 kg.\n> * **VL_UNIT:** Valor unitário do item: R$ 5,50.\n> * **VL_ITEM:** Valor total do item no inventário: R$ 550,00.\n> * **IND_PROP:** Indicador de propriedade \"0\", significando que o item pertence à empresa e está em sua posse.\n> * **COD_PART:** Código do participante (vazio pois o item é da própria empresa).\n> * **TXT_COMPL:** Descrição complementar (vazio).\n> * **COD_CTA:** Código da conta contábil onde o item está registrado: 1101.\n> * **VL_ITEM_IR:** Valor do item para fins de Imposto de Renda: R$ 540,00 (considerando exclusão do ICMS recuperável).\n> \n> \n> **Exemplo 2: Item de terceiro em posse da empresa**\n> \n> ```\n> |H010|00002|KG|50,000|10,00|500,00|2|000001|Material em consignação|1103||\n> ```\n> \n> **Explicação:**\n> \n> * **REG:** Identificador do registro: H010.\n> * **COD_ITEM:** Código do item \"00002\" (Feijão Preto) conforme cadastro no Registro 0200.\n> * **UNID:** Unidade de medida \"KG\" (quilograma).\n> * **QTD:** Quantidade do item em estoque: 50 kg.\n> * **VL_UNIT:** Valor unitário do item: R$ 10,00.\n> * **VL_ITEM:** Valor total do item no inventário: R$ 500,00.\n> * **IND_PROP:** Indicador de propriedade \"2\", significando que o item pertence a terceiros e está em posse da empresa.\n> * **COD_PART:** Código do participante \"000001\" que é o proprietário do item, conforme cadastro no Registro 0150.\n> * **TXT_COMPL:** Descrição complementar \"Material em consignação\".\n> * **COD_CTA:** Código da conta contábil onde o item está registrado: 1103.\n> * **VL_ITEM_IR:** Valor do item para fins de Imposto de Renda (vazio pois não foi informado).\n> \n> ## Função do Registro H010:\n> \n> O registro H010 detalha os itens do inventário físico da empresa, informando a quantidade e o valor de cada item em \n> estoque na data do inventário. As informações prestadas neste registro são utilizadas para a apuração do ICMS e do IPI, \n> além de servir como base para a escrituração do estoque para fins de Imposto de Renda.\n> \n> **Lembre-se:**\n> \n> * Cadastre os itens no Registro 0200 antes de usar os códigos no H010.\n> * Utilize a unidade de medida e o código do item conforme cadastrado no Registro 0200.\n> * Preencha o indicador de propriedade (IND_PROP) e o código do participante (COD_PART) corretamente.\n> * O campo \"VL_ITEM_IR\" é opcional, mas importante para fins de Imposto de Renda.\n> \n> \n"
          },
          "metadata": {}
        },
        {
          "name": "stdout",
          "output_type": "stream",
          "text": [
            "-------------------------------------------\n",
            "Proxima Pergunta: Como ficaria no arquivo?\n"
          ]
        },
        {
          "output_type": "display_data",
          "data": {
            "text/plain": [
              "<IPython.core.display.Markdown object>"
            ],
            "text/markdown": "> **Resposta**: ## Registro H010 no arquivo da EFD ICMS/IPI:\n> \n> O arquivo da EFD ICMS/IPI é um arquivo texto com delimitação por pipes (|). Cada linha do arquivo representa um \n> registro, e os campos de cada registro são separados por pipes. \n> \n> **Exemplo de como os registros H010 ficariam dentro do Bloco H do arquivo:**\n> \n> ```\n> |H001|0|\n> |H005|31122023|1050,00|01|\n> |H010|00001|KG|100,000|5,50|550,00|0||||1101|540,00|\n> |H010|00002|KG|50,000|10,00|500,00|2|000001|Material em consignação|1103||\n> |H990|4|\n> ```\n> \n> **Explicação do Bloco H:**\n> \n> * **|H001|0|:** Registro de abertura do Bloco H, indicando que há informações de inventário.\n> * **|H005|31122023|1050,00|01|:** Registro de totalização do inventário, informando a data (31/12/2023), o valor total do \n> estoque (R$ 1050,00) e o motivo do inventário (01 - No final do período).\n> * **|H010|00001|KG|100,000|5,50|550,00|0||||1101|540,00|:** Detalhe do item \"00001\" (Arroz Tipo 1) conforme explicado \n> no Exemplo 1.\n> * **|H010|00002|KG|50,000|10,00|500,00|2|000001|Material em consignação|1103||:** Detalhe do item \"00002\" (Feijão \n> Preto) conforme explicado no Exemplo 2.\n> * **|H990|4|:** Registro de encerramento do Bloco H, informando o total de linhas do bloco (4 linhas, incluindo abertura e \n> encerramento).\n> \n> **Observações:**\n> \n> * O arquivo da EFD-ICMS/IPI é um arquivo texto (.txt) com delimitação por pipes (|).\n> * Cada linha do arquivo representa um registro.\n> * Os campos de cada registro são separados por pipes.\n> * Campos numéricos utilizam a vírgula (,) como separador decimal.\n> * Campos vazios são representados por dois pipes consecutivos (||).\n> * Não deve haver espaços em branco no início ou no fim de cada campo.\n> \n> **Lembre-se:** Este é apenas um exemplo do Bloco H. O arquivo completo da EFD-ICMS/IPI contém outros blocos e \n> registros que devem ser preenchidos de acordo com as operações da empresa. \n"
          },
          "metadata": {}
        },
        {
          "name": "stdout",
          "output_type": "stream",
          "text": [
            "-------------------------------------------\n",
            "Proxima Pergunta: Validei esses exemplos no PVA e ocorreu o seguinte erro: \"Codigo do item invalido. Informar codigo no \"Registro 0200\" antes de utiliza-lo\"\n"
          ]
        },
        {
          "output_type": "display_data",
          "data": {
            "text/plain": [
              "<IPython.core.display.Markdown object>"
            ],
            "text/markdown": "> **Resposta**: Me desculpe, o erro persiste porque, apesar de ter fornecido as informações para cadastro no Registro 0200, **não as \n> inclui no exemplo do arquivo**. O PVA precisa encontrar os registros 0200 com os códigos 00001 e 00002 no arquivo \n> para validar o Bloco H.\n> \n> Segue o exemplo corrigido, **incluindo os registros 0200 no Bloco 0**:\n> \n> ```\n> |0000|012|0|01112023|31112023|EMPRESA LTDA|12345678901234|SP|123456789|9999999|||A|1|\n> |0001|0|\n> |0200|00001|Arroz Tipo 1|KG|00|1006.30.10||00|17,00||\n> |0200|00002|Feijão Preto|KG|00|0713.33.90||00|7,00||\n> |0990|3|\n> |H001|0|\n> |H005|31122023|1050,00|01|\n> |H010|00001|KG|100,000|5,50|550,00|0||||1101|540,00|\n> |H010|00002|KG|50,000|10,00|500,00|2|000001|Material em consignação|1103||\n> |H990|4|\n> ```\n> \n> **Explicação:**\n> \n> * **Bloco 0:**\n>     * Incluídos dois registros 0200, um para cada código de item (00001 e 00002), com as informações fornecidas \n>     anteriormente.\n>     * O registro 0990 (encerramento do Bloco 0) foi atualizado para refletir o total de linhas do bloco (3 linhas).\n> * **Bloco H:**\n>     * Permanece igual ao exemplo anterior, mas agora o PVA conseguirá validar os códigos de item pois os \n>     encontrará no Registro 0200 do Bloco 0.\n> \n> **Ressalto a importância de cadastrar todos os itens no Registro 0200 antes de utilizá-los em outros registros.** Essa \n> regra de validação é fundamental para garantir a consistência das informações na EFD-ICMS/IPI. \n"
          },
          "metadata": {}
        },
        {
          "name": "stdout",
          "output_type": "stream",
          "text": [
            "-------------------------------------------\n",
            "Proxima Pergunta: sair\n"
          ]
        }
      ]
    }
  ]
}